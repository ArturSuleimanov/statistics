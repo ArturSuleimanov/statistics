{
 "cells": [
  {
   "cell_type": "code",
   "execution_count": 1,
   "id": "905da7ba-a4d6-4a42-9efa-507dffb2e81e",
   "metadata": {},
   "outputs": [],
   "source": [
    "import numpy as np\n",
    "import scipy.stats as ss\n",
    "import matplotlib.pyplot as plt\n",
    "from scipy.stats import f_oneway\n",
    "from statsmodels.stats.multicomp import pairwise_tukeyhsd\n",
    "import pandas as pd\n",
    "import seaborn as sns\n",
    "data = np.random.normal(loc = 10, scale = 2, size = 1000)"
   ]
  },
  {
   "cell_type": "code",
   "execution_count": 2,
   "id": "f013ce50-b3a2-4647-af0f-047512f060e5",
   "metadata": {},
   "outputs": [
    {
     "data": {
      "image/png": "[encoded data removed]",
      "text/plain": [
       "<Figure size 432x288 with 1 Axes>"
      ]
     },
     "metadata": {
      "needs_background": "light"
     },
     "output_type": "display_data"
    }
   ],
   "source": [
    "\"\"\"\n",
    "Потребность во множественный сравнениях возникает когда мы хотим сравнить число групп\n",
    "большее 2-х.\n",
    "Если мы начнём попарно сравнивать между собой каждую выборку с каждой (даже\n",
    "если они сделаны из одной генеральной совокупности),\n",
    "то велика вероятность того, что мы получим статистически значимые различия\n",
    "хотя бы 2-х из этих выборок.\n",
    "\"\"\"\n",
    "# Количество сравнений = n * (n-1) / 2, где n - число групп.\n",
    "\n",
    "def my_ttest(selection1, selection2, selections_size):\n",
    "    \n",
    "    mu1 = np.mean(selection1)\n",
    "    mu2 = np.mean(selection2)\n",
    "    sd1 = SKO(selection1)\n",
    "    sd2 = SKO(selection2)\n",
    "    se = (sd1 ** 2 / selections_size + sd2 ** 2 / selections_size) ** 0.5\n",
    "    T = (mu1 - mu2) / se\n",
    "    df = selections_size * 2 - 2\n",
    "    return ss.t.sf(abs(T), df=df) * 2\n",
    "\n",
    "\n",
    "def SKO(ar):\n",
    "    \n",
    "    summary = 0\n",
    "    avg = np.mean(ar)\n",
    "    for i in ar:\n",
    "        summary += ((avg - i) ** 2)\n",
    "    return (summary / (len(ar)-1)) ** 0.5\n",
    "\n",
    "\n",
    "def generate_selections(\n",
    "    data,\n",
    "    selections_amount,\n",
    "    selections_size\n",
    "):\n",
    "    # Генерируем выборки\n",
    "    \n",
    "    selections = []\n",
    "    selections.append(np.random\n",
    "                      .choice(data, selections_size, replace=False))\n",
    "    for i in range(selections_amount-1):\n",
    "        selections.append(np.random\n",
    "                  .choice(data, selections_size, replace=False))\n",
    "    return selections\n",
    " \n",
    "    \n",
    "def comparisons_amount(selections_amount):\n",
    "    \n",
    "    # Количество сравнений = n * (n-1) / 2, где n - число групп.\n",
    "    return selections_amount * (selections_amount - 1) / 2\n",
    "\n",
    "\n",
    "def plot(result, trys):\n",
    "    \n",
    "    barlist = plt.bar([\"yes\", \"no\"], [result[0], result[1]], color='orange')\n",
    "    barlist[0].set_color('cyan')\n",
    "    plt.title(round(result[0] / trys, 3))\n",
    "    plt.ylabel('количество')\n",
    "    plt.show()\n",
    "    \n",
    "\n",
    "def multiple_comparisons(\n",
    "    data,\n",
    "    selections_amount,\n",
    "    selections_size,\n",
    "    alpha = 0.05,\n",
    "    trys = 1000\n",
    "):\n",
    "\n",
    "    comparisons = comparisons_amount(selections_amount)\n",
    "    result = {}\n",
    "    result[1] = 0\n",
    "    result[0] = 0\n",
    "    for _ in range(1000):\n",
    "        selections = generate_selections(data,\n",
    "                                 selections_amount,\n",
    "                                 selections_size)\n",
    "        flag = True\n",
    "        for i in range(len(selections)):\n",
    "            for j in range(len(selections)):\n",
    "                if i == j:\n",
    "                    continue\n",
    "                p_value = my_ttest(selections[i], selections[j], selections_size)\n",
    "                if p_value < alpha:\n",
    "                    flag = False\n",
    "                    break\n",
    "            if not flag:\n",
    "                break\n",
    "        if flag:\n",
    "            result[1] += 1\n",
    "        else:\n",
    "            result[0] += 1\n",
    "    plot(result, trys)\n",
    "\n",
    "            \n",
    "            \n",
    "    \n",
    "\n",
    "    \n",
    "\n",
    "multiple_comparisons(data, 8, 30)\n",
    "    \n",
    "\n"
   ]
  },
  {
   "cell_type": "code",
   "execution_count": 3,
   "id": "42939883-3dec-4ce0-b684-ef19f9855388",
   "metadata": {},
   "outputs": [
    {
     "data": {
      "image/png": "[encoded data removed]",
      "text/plain": [
       "<Figure size 432x288 with 1 Axes>"
      ]
     },
     "metadata": {
      "needs_background": "light"
     },
     "output_type": "display_data"
    }
   ],
   "source": [
    "\"\"\"\n",
    "Поэтому нам предлагается сделать поправку Бенферони (очень консервативна,\n",
    "рекомендуется использовать другие варианты поправок).\n",
    "Т. к. вероятность ошибки первого рода возрастает пропорциональ количеству групп \n",
    "(или количеству проверяемых в эксперименте гипотез), то и показалель alpha (p-value)\n",
    "надо поделить на количество попарных сравнений.\n",
    "\"\"\"\n",
    "# Количество сравнений = n * (n-1) / 2, где n - число групп.\n",
    "multiple_comparisons(data, 8, 30, 0.05 / comparisons_amount(8))\n"
   ]
  },
  {
   "cell_type": "code",
   "execution_count": 9,
   "id": "5f4d2704-8daf-4184-9949-e632a13dfc3a",
   "metadata": {},
   "outputs": [
    {
     "name": "stdout",
     "output_type": "stream",
     "text": [
      "Multiple Comparison of Means - Tukey HSD, FWER=0.05 \n",
      "====================================================\n",
      "group1 group2 meandiff p-adj   lower   upper  reject\n",
      "----------------------------------------------------\n",
      "     a      b  -3.2721 0.2839 -10.4788 3.9346  False\n",
      "     a      c  -0.6946    0.9  -7.9013 6.5121  False\n",
      "     b      c   2.5775 0.4093  -4.6292 9.7842  False\n",
      "----------------------------------------------------\n"
     ]
    }
   ],
   "source": [
    "\"\"\"\n",
    "Вместо поправки Бенферони можно использовать критерий Тьюки (Tukey HSD).\n",
    "Предлагается расчитать доверительный интервал для разности средних 2-х выборок\n",
    "(Xa - Xb), и если доверительный интервал не включает в себя 0, то можно отклонить\n",
    "нулевую гипотезу о равенстве средних.\n",
    "\"\"\"\n",
    "a = np.random.choice(data, 2, replace=False)\n",
    "b = np.random.choice(data, 2, replace=False)\n",
    "c = np.random.choice(data, 2, replace=False)\n",
    "\n",
    "\n",
    "abc = np.concatenate((a, b, c))\n",
    "df = pd.DataFrame({'score': abc,\n",
    " 'group': np.repeat(['a', 'b', 'c'], repeats= len(abc) / 3)})\n",
    "\n",
    "tukey = pairwise_tukeyhsd(endog=df['score'],\n",
    "                          groups=df['group'],\n",
    "                          alpha= 0.05)\n",
    "print(tukey)"
   ]
  },
  {
   "cell_type": "code",
   "execution_count": 17,
   "id": "1c90e3bf-c3a6-4c02-b6c3-d381f5b9323f",
   "metadata": {},
   "outputs": [
    {
     "data": {
      "text/plain": [
       "<AxesSubplot:xlabel='group', ylabel='score'>"
      ]
     },
     "execution_count": 17,
     "metadata": {},
     "output_type": "execute_result"
    },
    {
     "data": {
      "image/png": "[encoded data removed]",
      "text/plain": [
       "<Figure size 432x288 with 1 Axes>"
      ]
     },
     "metadata": {
      "needs_background": "light"
     },
     "output_type": "display_data"
    }
   ],
   "source": [
    "sns.pointplot(data=df, x = \"group\", y = \"score\")"
   ]
  }
 ],
 "metadata": {
  "kernelspec": {
   "display_name": "Python 3 (ipykernel)",
   "language": "python",
   "name": "python3"
  },
  "language_info": {
   "codemirror_mode": {
    "name": "ipython",
    "version": 3
   },
   "file_extension": ".py",
   "mimetype": "text/x-python",
   "name": "python",
   "nbconvert_exporter": "python",
   "pygments_lexer": "ipython3",
   "version": "3.9.7"
  }
 },
 "nbformat": 4,
 "nbformat_minor": 5
}
