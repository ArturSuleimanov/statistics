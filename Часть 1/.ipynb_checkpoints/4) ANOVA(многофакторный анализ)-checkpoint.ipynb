{
 "cells": [
  {
   "cell_type": "markdown",
   "id": "cdb9adb1-f240-48c8-a962-6f10bc2f4f0e",
   "metadata": {},
   "source": [
    "SST = SSW + SSB_a + SSB_b + SSB_a x SSB_b\n",
    "\n",
    "Дисперсионный анализ требует выполнения следующих условий:\n",
    "    \n",
    "    -Нормальность распределения в каждой из групп.\n",
    "    \n",
    "    -Гомогенность дисперсий (примерное равенство дисперсий).\n",
    "\n",
    "Для того чтобы убедиться в гомогенности дисперсий, можно применить\n",
    "тест Левена, который проверит гипотезу о равенстве дисперсий.\n",
    "    \n",
    "    \n",
    "Можно пренебречь этими условиями, если количесто наблюдений в выборке > 50, в каждой из групп."
   ]
  },
  {
   "cell_type": "code",
   "execution_count": 2,
   "id": "70f35c0e-c7f3-4b93-be1f-44b840fca9ab",
   "metadata": {},
   "outputs": [],
   "source": [
    "from scipy import stats\n",
    "import pandas as pd\n",
    "import seaborn as sns\n",
    "import numpy as np\n",
    "\"\"\"\n",
    "Атеросклероз довольно опасное заболевание - причина ишемической болезни сердца и\n",
    "инсультов. Анализ экспрессии генов лейкоцитов позволяет предсказать вероятность\n",
    "развития данного заболевания. В экперименте исследовался уровень экспрессии в \n",
    "зависимости от возраста пациентов и дозировки лекарства аторвастатина.\n",
    "\"\"\"\n",
    "\n",
    "\n",
    "expr = np.array(map(float, '107.351478054914 104.504438134304 103.435134210494 109.572882092261 114.99380251712 106.060605357622 114.593613086389 103.445768791242 102.818701663282 105.053771656134 102.622521313243 101.556490777749 90.918788355138 107.07892859075 105.31817820369 96.8103224207562 101.062275979053 100.763332320682 94.2909916928403 90.9709491182601 105.03067173909 98.4552947178921 97.0302686754771 104.207160207475 102.128772575986 98.2937412734246 103.947550971205 112.008915731737 98.1486335158637 99.2229452447424 102.787408035945 107.727966061797 107.999877879655 106.767976590375 99.9629920980222 107.154914700786 100.679918262015 106.417726553716 109.626718303506 106.683772163296 106.169251002182 111.552089774447 105.13782223425 107.648486076925 110.833714699185 105.582136234946 94.5546115921606 101.961820706695 101.442147901326 100.968740937749 111.250770743051 104.180487855472 96.2126963150515 95.9727196871366 101.898886378062 97.3220996815177 94.1802135090763 104.019714940356 102.757697920972 101.851582089502 105.239530154673 99.3501976897502 108.091455147545 111.639128974569'.split(\" \")))\n",
    "age = np.array(map(int, '1 1 1 1 1 1 1 1 1 1 1 1 1 1 1 1 2 2 2 2 2 2 2 2 2 2 2 2 2 2 2 2 1 1 1 1 1 1 1 1 1 1 1 1 1 1 1 1 2 2 2 2 2 2 2 2 2 2 2 2 2 2 2 2'.split(\" \")))\n",
    "dose = np.array('D1 D1 D1 D1 D1 D1 D1 D1 D1 D1 D1 D1 D1 D1 D1 D1 D1 D1 D1 D1 D1 D1 D1 D1 D1 D1 D1 D1 D1 D1 D1 D1 D2 D2 D2 D2 D2 D2 D2 D2 D2 D2 D2 D2 D2 D2 D2 D2 D2 D2 D2 D2 D2 D2 D2 D2 D2 D2 D2 D2 D2 D2 D2 D2'.split(' '))\n",
    "df = pd.DataFrame({'expr': expr,\n",
    "              'age': age,\n",
    "              'dose': dose})"
   ]
  },
  {
   "cell_type": "code",
   "execution_count": 3,
   "id": "3afa04c1-0e95-4ee8-bebb-21ce003622cd",
   "metadata": {},
   "outputs": [
    {
     "data": {
      "text/plain": [
       "[Text(0.5, 0, 'Доза'),\n",
       " Text(0, 0.5, 'Уровень экспрессии'),\n",
       " Text(0.5, 1.0, 'Уровень экспрессии гена в зависимости от возраста и дозировки')]"
      ]
     },
     "execution_count": 3,
     "metadata": {},
     "output_type": "execute_result"
    },
    {
     "data": {
      "image/png": "[encoded data removed]",
      "text/plain": [
       "<Figure size 842.4x595.44 with 1 Axes>"
      ]
     },
     "metadata": {},
     "output_type": "display_data"
    }
   ],
   "source": [
    "sns.set(rc={'figure.figsize':(11.7,8.27)})\n",
    "plot = sns.pointplot(x=df.dose,\n",
    "              y=df.expr,\n",
    "              hue=df.age,\n",
    "              data=df,\n",
    "              dodge=True)\n",
    "plot.set(xlabel='Доза',\n",
    "         ylabel='Уровень экспрессии',\n",
    "         title = 'Уровень экспрессии гена в зависимости от возраста и дозировки')"
   ]
  },
  {
   "cell_type": "code",
   "execution_count": 4,
   "id": "bcff0476-b17b-4bec-8db8-8f8a77f106da",
   "metadata": {},
   "outputs": [],
   "source": [
    "# Степени свободы\n",
    "number_of_observations = len(df)\n",
    "unique_ages = len(df.age.unique())\n",
    "uniques_doses = len(df.dose.unique())\n",
    "df_ages = unique_ages - 1\n",
    "df_doses = uniques_doses - 1\n",
    "df_age_x_dose = df_ages * df_doses\n",
    "df_ssw = number_of_observations - unique_ages * uniques_doses"
   ]
  },
  {
   "cell_type": "code",
   "execution_count": 5,
   "id": "08b64705-b8dd-42c5-8a57-2e80c473862d",
   "metadata": {},
   "outputs": [],
   "source": [
    "# Общее среднее\n",
    "common_average = np.mean(df.expr)\n",
    "# Суммы квадратов\n",
    "\n",
    "sst = sum((df.expr - common_average) ** 2)\n",
    "# Межгрупповая изменчивость обусловленная возрастом\n",
    "ssb_age =  sum([(df[df.age==i].expr.mean()-common_average)**2 for i in df.age])\n",
    "# Межгрупповая изменчивость обусловленная дозой\n",
    "ssb_dose = sum([(df[df.dose==i].expr.mean()-common_average)**2 for i in df.dose])\n",
    "\n",
    "#Внутригрупповая изменчивость\n",
    "group_means = df.groupby(['age','dose']).mean().reset_index()\n",
    "group_means.rename(columns = {'expr': 'means'}, inplace = True )\n",
    "df = pd.merge(df, group_means, on=['age','dose'])\n",
    "ssw = sum((df.expr - df.means) ** 2)\n",
    "\n",
    "ssb_age_X_ssb_dose = sst - ssw - ssb_age - ssb_dose"
   ]
  },
  {
   "cell_type": "code",
   "execution_count": 6,
   "id": "869ea6c6-53cf-4c28-be8e-44a570ad7c78",
   "metadata": {},
   "outputs": [],
   "source": [
    "#Средние квадраты\n",
    "ms_age = ssb_age / df_ages\n",
    "ms_dose = ssb_dose / df_doses\n",
    "ms_age_x_dose = ssb_age_X_ssb_dose / df_age_x_dose\n",
    "ms_ssw = ssw / df_ssw"
   ]
  },
  {
   "cell_type": "code",
   "execution_count": 7,
   "id": "ae1a2b8c-cf2a-4c36-9158-f42afa3695e7",
   "metadata": {},
   "outputs": [],
   "source": [
    "#F-значения\n",
    "f_age = ms_age/ms_ssw\n",
    "f_dose = ms_dose/ms_ssw\n",
    "f_age_x_dose = ms_age_x_dose/ms_ssw"
   ]
  },
  {
   "cell_type": "code",
   "execution_count": 8,
   "id": "8b57410c-66c2-4377-98d2-260616bfc6f0",
   "metadata": {},
   "outputs": [
    {
     "name": "stdout",
     "output_type": "stream",
     "text": [
      "age:p-value:  0.008313446093879589\n",
      "dose:p-value:  0.4275524367717761\n",
      "dose * age: p-value:  0.8522719377088325\n"
     ]
    }
   ],
   "source": [
    "#P-значения\n",
    "p_age = stats.f.sf(f_age, df_ages, df_ssw)\n",
    "p_dose = stats.f.sf(f_dose, df_doses, df_ssw)\n",
    "p_age_x_dose = stats.f.sf(f_age_x_dose, df_age_x_dose, df_ssw)\n",
    "print(\"age:p-value: \", p_age)\n",
    "print(\"dose:p-value: \", p_dose)\n",
    "print(\"dose * age: p-value: \", p_age_x_dose)"
   ]
  },
  {
   "cell_type": "code",
   "execution_count": 9,
   "id": "30ad90eb-87c5-41c8-9e9a-583dd99d13f4",
   "metadata": {},
   "outputs": [
    {
     "data": {
      "text/html": [
       "<div>\n",
       "<style scoped>\n",
       "    .dataframe tbody tr th:only-of-type {\n",
       "        vertical-align: middle;\n",
       "    }\n",
       "\n",
       "    .dataframe tbody tr th {\n",
       "        vertical-align: top;\n",
       "    }\n",
       "\n",
       "    .dataframe thead th {\n",
       "        text-align: right;\n",
       "    }\n",
       "</style>\n",
       "<table border=\"1\" class=\"dataframe\">\n",
       "  <thead>\n",
       "    <tr style=\"text-align: right;\">\n",
       "      <th></th>\n",
       "      <th>sum_sq</th>\n",
       "      <th>df</th>\n",
       "      <th>F</th>\n",
       "      <th>PR(&gt;F)</th>\n",
       "    </tr>\n",
       "  </thead>\n",
       "  <tbody>\n",
       "    <tr>\n",
       "      <th>dose</th>\n",
       "      <td>16.912241</td>\n",
       "      <td>1.0</td>\n",
       "      <td>0.638094</td>\n",
       "      <td>0.427552</td>\n",
       "    </tr>\n",
       "    <tr>\n",
       "      <th>age</th>\n",
       "      <td>197.452754</td>\n",
       "      <td>1.0</td>\n",
       "      <td>7.449841</td>\n",
       "      <td>0.008313</td>\n",
       "    </tr>\n",
       "    <tr>\n",
       "      <th>age:dose</th>\n",
       "      <td>0.927077</td>\n",
       "      <td>1.0</td>\n",
       "      <td>0.034978</td>\n",
       "      <td>0.852272</td>\n",
       "    </tr>\n",
       "    <tr>\n",
       "      <th>Residual</th>\n",
       "      <td>1590.257424</td>\n",
       "      <td>60.0</td>\n",
       "      <td>NaN</td>\n",
       "      <td>NaN</td>\n",
       "    </tr>\n",
       "  </tbody>\n",
       "</table>\n",
       "</div>"
      ],
      "text/plain": [
       "               sum_sq    df         F    PR(>F)\n",
       "dose        16.912241   1.0  0.638094  0.427552\n",
       "age        197.452754   1.0  7.449841  0.008313\n",
       "age:dose     0.927077   1.0  0.034978  0.852272\n",
       "Residual  1590.257424  60.0       NaN       NaN"
      ]
     },
     "execution_count": 9,
     "metadata": {},
     "output_type": "execute_result"
    }
   ],
   "source": [
    "# Пример решения с использованием стат-пакетов\n",
    "\n",
    "import pandas as pd\n",
    "import statsmodels.api as sm\n",
    "from statsmodels.formula.api import ols\n",
    "\n",
    "df = pd.read_csv('https://stepik.org/media/attachments/lesson/9250/atherosclerosis.csv')\n",
    "model = ols('expr ~ age * dose', df).fit()\n",
    "res = sm.stats.anova_lm(model, typ= 2)\n",
    "res"
   ]
  },
  {
   "cell_type": "code",
   "execution_count": 10,
   "id": "aeee7b81-988d-49b1-94a4-5ea50a9204ed",
   "metadata": {},
   "outputs": [
    {
     "data": {
      "text/html": [
       "<div>\n",
       "<style scoped>\n",
       "    .dataframe tbody tr th:only-of-type {\n",
       "        vertical-align: middle;\n",
       "    }\n",
       "\n",
       "    .dataframe tbody tr th {\n",
       "        vertical-align: top;\n",
       "    }\n",
       "\n",
       "    .dataframe thead th {\n",
       "        text-align: right;\n",
       "    }\n",
       "</style>\n",
       "<table border=\"1\" class=\"dataframe\">\n",
       "  <thead>\n",
       "    <tr style=\"text-align: right;\">\n",
       "      <th></th>\n",
       "      <th>sum_sq</th>\n",
       "      <th>df</th>\n",
       "      <th>F</th>\n",
       "      <th>PR(&gt;F)</th>\n",
       "    </tr>\n",
       "  </thead>\n",
       "  <tbody>\n",
       "    <tr>\n",
       "      <th>hormone</th>\n",
       "      <td>0.847472</td>\n",
       "      <td>1.0</td>\n",
       "      <td>0.086528</td>\n",
       "      <td>0.769653</td>\n",
       "    </tr>\n",
       "    <tr>\n",
       "      <th>sex</th>\n",
       "      <td>0.119762</td>\n",
       "      <td>1.0</td>\n",
       "      <td>0.012228</td>\n",
       "      <td>0.912318</td>\n",
       "    </tr>\n",
       "    <tr>\n",
       "      <th>hormone:sex</th>\n",
       "      <td>89.483384</td>\n",
       "      <td>1.0</td>\n",
       "      <td>9.136390</td>\n",
       "      <td>0.003682</td>\n",
       "    </tr>\n",
       "    <tr>\n",
       "      <th>Residual</th>\n",
       "      <td>587.650394</td>\n",
       "      <td>60.0</td>\n",
       "      <td>NaN</td>\n",
       "      <td>NaN</td>\n",
       "    </tr>\n",
       "  </tbody>\n",
       "</table>\n",
       "</div>"
      ],
      "text/plain": [
       "                 sum_sq    df         F    PR(>F)\n",
       "hormone        0.847472   1.0  0.086528  0.769653\n",
       "sex            0.119762   1.0  0.012228  0.912318\n",
       "hormone:sex   89.483384   1.0  9.136390  0.003682\n",
       "Residual     587.650394  60.0       NaN       NaN"
      ]
     },
     "execution_count": 10,
     "metadata": {},
     "output_type": "execute_result"
    }
   ],
   "source": [
    "import pandas as pd\n",
    "import statsmodels.api as sm\n",
    "from statsmodels.formula.api import ols\n",
    "# var4 - 'Концентрация кальция в плазме'\n",
    "# hormone - была ли инъекция гормона\n",
    "df = pd.read_csv('https://stepik.org/media/attachments/lesson/9250/birds.csv')\n",
    "\n",
    "model = ols('var4 ~ hormone * sex', df).fit()\n",
    "res = sm.stats.anova_lm(model, typ= 2)\n",
    "res\n"
   ]
  },
  {
   "cell_type": "code",
   "execution_count": 11,
   "id": "8ac3640e-cfe3-464d-a58b-8a887ca1c42a",
   "metadata": {},
   "outputs": [
    {
     "data": {
      "image/png": "[encoded data removed]",
      "text/plain": [
       "<Figure size 842.4x595.44 with 1 Axes>"
      ]
     },
     "metadata": {},
     "output_type": "display_data"
    }
   ],
   "source": [
    "\"\"\"\n",
    "В данном примере мы видим, что гормон по противоположно влияет на зависимую \n",
    "переменную в зависимости от пола.\n",
    "В случае мужского пола гормон привел к повышению показателя.\n",
    "В случае женского к понижению показателя\n",
    "\"\"\"\n",
    "sns.set(rc={'figure.figsize':(11.7,8.27)})\n",
    "plot = sns.pointplot(x=df.hormone,\n",
    "              y=df.var4,\n",
    "              hue=df.sex,\n",
    "              data=df,\n",
    "              dodge=True)\n",
    "\n",
    "\n"
   ]
  },
  {
   "cell_type": "code",
   "execution_count": 12,
   "id": "6f4a7cf3-7412-4f5c-a87c-735277ac2f5b",
   "metadata": {},
   "outputs": [
    {
     "data": {
      "text/plain": [
       "LeveneResult(statistic=0.34687749091119796, pvalue=0.7915170095856647)"
      ]
     },
     "execution_count": 12,
     "metadata": {},
     "output_type": "execute_result"
    }
   ],
   "source": [
    "# Тест Левена\n",
    "split_by_sex = [df[df.sex == i] for i in df.sex.unique()]\n",
    "split_by_sex_and_hormone = [[cur[cur.hormone == i] for i in df.hormone.unique()] for cur in split_by_sex] \n",
    "\n",
    "groups = []\n",
    "\n",
    "for group_by_sex in split_by_sex_and_hormone:\n",
    "    for group in group_by_sex:\n",
    "        groups.append(np.array(group.var4))\n",
    "stats.levene(*groups)\n",
    "\n",
    "# В данном случае значимых отличий нет"
   ]
  },
  {
   "cell_type": "code",
   "execution_count": null,
   "id": "07a7626c-ee54-4f4f-91a5-70fd610fb356",
   "metadata": {},
   "outputs": [],
   "source": []
  },
  {
   "cell_type": "code",
   "execution_count": null,
   "id": "9c67bd93-d148-4a2e-9f74-b1e3aefeca4f",
   "metadata": {},
   "outputs": [],
   "source": []
  }
 ],
 "metadata": {
  "kernelspec": {
   "display_name": "Python 3 (ipykernel)",
   "language": "python",
   "name": "python3"
  },
  "language_info": {
   "codemirror_mode": {
    "name": "ipython",
    "version": 3
   },
   "file_extension": ".py",
   "mimetype": "text/x-python",
   "name": "python",
   "nbconvert_exporter": "python",
   "pygments_lexer": "ipython3",
   "version": "3.9.7"
  }
 },
 "nbformat": 4,
 "nbformat_minor": 5
}
