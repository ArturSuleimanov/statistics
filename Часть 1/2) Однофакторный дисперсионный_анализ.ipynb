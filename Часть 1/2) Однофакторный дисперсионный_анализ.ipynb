{
 "cells": [
  {
   "cell_type": "code",
   "execution_count": 2,
   "id": "ea9f32f3-5318-43f8-a7c2-8f5ac392b764",
   "metadata": {},
   "outputs": [],
   "source": [
    "import numpy as np\n",
    "import seaborn as sns\n",
    "import matplotlib.pyplot as plt\n",
    "import pandas as pd\n",
    "import scipy.stats as ss\n",
    "\n",
    "group1 = np.array([3, 1, 2])\n",
    "group2 = np.array([5, 3, 4])\n",
    "group3 = np.array([7, 6, 5])\n",
    "\n",
    "def common_average(*args):\n",
    "    \"\"\"\n",
    "    Принимает на вход произвольное число выборок и находит общее среднее всех групп.\n",
    "    \"\"\"\n",
    "    return sum([sum(i) / len(i) for i in args]) / len(args)\n",
    "\n",
    "\n",
    "def sst(*args):\n",
    "    \"\"\"\n",
    "    Sum squares total, Общая сумма квадратов.\n",
    "    Так как для вычисления общей суммы квадратов нам надо знать хотя бы \n",
    "    N элементов, число степеней свободы df = N - 1,\n",
    "    где N общее число элементов во всех группах.\n",
    "    \"\"\"\n",
    "    x = common_average(*args)\n",
    "    return sum([sum((i - x) ** 2) for i in args])\n",
    "\n",
    "\n",
    "def ssw(*args):\n",
    "    \"\"\"\n",
    "    Внутригрупповая сумма квадратов (Sum Squares Within)\n",
    "    Так как в данном случае нам надо знать только по n - 1 элементу из \n",
    "    каждой группы, число степеней свободы df = N - m,\n",
    "    где m - количество групп.\n",
    "    \"\"\"\n",
    "    return sum([sum((i - np.mean(i)) ** 2) for i in args])\n",
    "\n",
    "def ssb(*args):\n",
    "    \"\"\"\n",
    "    Межгрупповая сумма квадратов (Sum Squares Between)\n",
    "    Показывает на сколько групповые средние отклоняются от общего среднего.\n",
    "    Нам достаточно df = m - 1 групповых средних, чтобы расчитать этот показатель,\n",
    "    где m - число групп.\n",
    "    \"\"\"\n",
    "    x = common_average(*args)\n",
    "    return sum([len(i) * (np.mean(i) - x) ** 2 for i in args])\n"
   ]
  },
  {
   "cell_type": "code",
   "execution_count": 3,
   "id": "c83338d4-f52c-4096-9c16-16928dc05718",
   "metadata": {},
   "outputs": [],
   "source": [
    "def plot_dencity(data):\n",
    "    sns.set(rc={'figure.figsize':(8, 8)})\n",
    "    sns.kdeplot(data)"
   ]
  },
  {
   "cell_type": "code",
   "execution_count": 8,
   "id": "92bf9c1b-b131-48a3-a2d0-2a1c8cbf37d4",
   "metadata": {},
   "outputs": [],
   "source": [
    "\"\"\"\n",
    "Сравним 3 группы с помощью дисперсионного анализа.\n",
    "Н0: mu1 = mu2 = mu3\n",
    "H1: mu1 != mu2 != mu3 (хотя бы пара средних значимо различается)\n",
    "\"\"\"\n",
    "# Сначала найдем общую сумму квадратов всех групп\n",
    "x = common_average(group1, group2, group3) # общее среднее всех групп\n",
    "SST = sst(group1, group2, group3)\n",
    "\n",
    "\"\"\"\n",
    "SST состоит из внутригрупповой суммы квадратов (Sum Squares Within) и межгрупповой\n",
    "суммы (Sum Squares Between). SST = SSW + SSB\n",
    "SSW объясняет изменчивость внутри групп, а SSB объясняет изменчивость между группами.\n",
    "\"\"\"\n",
    "SSW = ssw(group1, group2, group3)\n",
    "SSB = ssb(group1, group2, group3)\n"
   ]
  },
  {
   "cell_type": "code",
   "execution_count": 9,
   "id": "f92103e6-b891-4df8-9a42-8b15a59f5ee0",
   "metadata": {},
   "outputs": [
    {
     "name": "stdout",
     "output_type": "stream",
     "text": [
      "0.6861482044365153\n"
     ]
    }
   ],
   "source": [
    "\"\"\"\n",
    "Общая изменчивость объяняется межгрупповой и внутригрупповой.\n",
    "Теперь выясним какой из них в большей степени с помощью F-критерия.\n",
    "\"\"\"\n",
    "def df_ssw(*args):\n",
    "    \"\"\"\n",
    "    Так как в данном случае нам надо знать только по n - 1 элементу из \n",
    "    каждой группы, число степеней свободы df = N - m,\n",
    "    где m - количество групп.\n",
    "    \"\"\"\n",
    "    return sum([len(i) for i in args]) - len(args)\n",
    "\n",
    "def df_ssb(*args):\n",
    "    \"\"\"\n",
    "    Нам достаточно df = m - 1 групповых средних, чтобы расчитать этот показатель,\n",
    "    где m - число групп.\n",
    "    \"\"\"\n",
    "    return len(args) - 1\n",
    "\n",
    "\n",
    "df_SSW = df_ssw(group1, group2, group3)\n",
    "df_SSB = df_ssb(group1, group2, group3)\n",
    "F = (SSB / df_SSB) / (SSW / df_SSW)\n",
    "\"\"\"\n",
    "Интерпретация:\n",
    "Предположим, что из одной генеральной совокупности, мы бы всегда выбирали 3 выборки,\n",
    "и расчитывали каждый раз расчитывали F-критерий, тогда они бы распределились по\n",
    "F - распределению и мы бы смогли посмотреть вероятность получения подобных  \n",
    "отклонений. Так как выборки сделаны из одной генеральной совокупности, то \n",
    "SSB стремится к нулю, и F стремится к нулю.\n",
    "\"\"\"\n",
    "import scipy.stats as ss\n",
    "p_value = 1-ss.f.cdf(F, df_SSB, df_SSW)\n",
    "print(p_value)"
   ]
  },
  {
   "cell_type": "code",
   "execution_count": 10,
   "id": "7cb2e193-5c35-4e38-8fcb-16db212a295a",
   "metadata": {},
   "outputs": [],
   "source": [
    "def count_f(*args):\n",
    "    SSW = ssw(*args)\n",
    "    SSB = ssb(*args)\n",
    "    df_SSW = df_ssw(*args)\n",
    "    df_SSB = df_ssb(*args)\n",
    "    return (SSB / df_SSB) / (SSW / df_SSW)"
   ]
  },
  {
   "cell_type": "code",
   "execution_count": 13,
   "id": "64122ead-6fd2-463d-bb4a-14565d36d6dd",
   "metadata": {},
   "outputs": [
    {
     "data": {
      "image/png": "[encoded data removed]",
      "text/plain": [
       "<Figure size 576x576 with 1 Axes>"
      ]
     },
     "metadata": {},
     "output_type": "display_data"
    }
   ],
   "source": [
    "# Пример F-распределения Фишера\n",
    "data = np.random.normal(loc = 10, scale = 2, size = 1000)\n",
    "n = 3\n",
    "result = []\n",
    "\n",
    "for i in range(10000):\n",
    "    group1 = np.random.choice(data, n, replace=False)\n",
    "    group2 = np.random.choice(data, n, replace=False)\n",
    "    group3 = np.random.choice(data, n, replace=False)\n",
    "    result.append(count_f(group1, group2, group3))\n",
    "plot_dencity(result)\n"
   ]
  },
  {
   "cell_type": "code",
   "execution_count": 11,
   "id": "8d059299-d3c5-4d47-ba79-f3bcadb1cf9d",
   "metadata": {},
   "outputs": [],
   "source": [
    "\"\"\"\n",
    "Генотерапия позволяет корректировать работу дефективного гена, отвественного\n",
    "за различные заболевания. В эксперименте сравнивалась эффективность 4-х\n",
    "различных типов терапии.\n",
    "\"\"\"\n",
    "expr = np.array(map(int,'100 96 101 95 103 99 97 96 98 106 106 104 95 95 105 100 100 95 84 101 101 95 106 105 97 103 94 94 100 107 91 96 94 96 91 85 98 93 100 85 101 101 90 98 97 92 85 95 89 91 91 99 94 97 94 87 93 96 92 90'.split(\" \")))\n",
    "therapy = np.array('A A A A A A A A A A A A A A A B B B B B B B B B B B B B B B C C C C C C C C C C C C C C C D D D D D D D D D D D D D D D'.split(' '))\n",
    "df = pd.DataFrame({'expr': expr,\n",
    "              'Therapy': therapy})\n",
    "\n",
    "group_averages = df.groupby(\"Therapy\").mean()"
   ]
  },
  {
   "cell_type": "code",
   "execution_count": 12,
   "id": "85c7427f-d98b-4bbe-8644-5f82dbf6493f",
   "metadata": {},
   "outputs": [
    {
     "name": "stdout",
     "output_type": "stream",
     "text": [
      "0.00015249722895227524\n"
     ]
    }
   ],
   "source": [
    "groups_amount = len(set(df.Therapy))\n",
    "common_amount =len(df)\n",
    "mean_common = df.expr.mean()\n",
    "SST = sum((df.expr - mean_common) ** 2)\n",
    "group_means = df.groupby(\"Therapy\").mean()\n",
    "group_means.rename(columns = {'expr': 'means'}, inplace = True )\n",
    "df = pd.merge(df, group_means, on='Therapy')\n",
    "SSW = sum((df.expr - df.means) ** 2)\n",
    "df = df.groupby(\"means\").count()\n",
    "df[\"means\"] = df.index\n",
    "SSB = sum(df.expr * (df.means - mean_common) ** 2)\n",
    "df_SSW = common_amount - groups_amount\n",
    "df_SSB = groups_amount - 1\n",
    "F = (SSB / df_SSB) / (SSW / df_SSW)\n",
    "p_value = 1-ss.f.cdf(F, df_SSB, df_SSW)\n",
    "print(p_value)"
   ]
  },
  {
   "cell_type": "code",
   "execution_count": 19,
   "id": "71af8079-db43-427e-91ef-ef126cdf919f",
   "metadata": {},
   "outputs": [
    {
     "name": "stdout",
     "output_type": "stream",
     "text": [
      "96.31666666666666\n"
     ]
    },
    {
     "data": {
      "image/png": "[encoded data removed]",
      "text/plain": [
       "<Figure size 576x576 with 1 Axes>"
      ]
     },
     "metadata": {},
     "output_type": "display_data"
    }
   ],
   "source": [
    "expr = np.array(map(int,'100 96 101 95 103 99 97 96 98 106 106 104 95 95 105 100 100 95 84 101 101 95 106 105 97 103 94 94 100 107 91 96 94 96 91 85 98 93 100 85 101 101 90 98 97 92 85 95 89 91 91 99 94 97 94 87 93 96 92 90'.split(\" \")))\n",
    "therapy = np.array('A A A A A A A A A A A A A A A B B B B B B B B B B B B B B B C C C C C C C C C C C C C C C D D D D D D D D D D D D D D D'.split(' '))\n",
    "df = pd.DataFrame({'expr': expr,\n",
    "              'Therapy': therapy})\n",
    "\n",
    "sns.pointplot(x = df.Therapy, y = df.expr, data = df, dodge=True, linestyles=['', ''], palette=['red', 'blue', 'cyan', 'yellow'])\n",
    "print(mean_common)"
   ]
  },
  {
   "cell_type": "code",
   "execution_count": null,
   "id": "b2681888-d644-4c5a-ae12-b0a0f417034b",
   "metadata": {},
   "outputs": [],
   "source": []
  }
 ],
 "metadata": {
  "kernelspec": {
   "display_name": "Python 3 (ipykernel)",
   "language": "python",
   "name": "python3"
  },
  "language_info": {
   "codemirror_mode": {
    "name": "ipython",
    "version": 3
   },
   "file_extension": ".py",
   "mimetype": "text/x-python",
   "name": "python",
   "nbconvert_exporter": "python",
   "pygments_lexer": "ipython3",
   "version": "3.9.7"
  }
 },
 "nbformat": 4,
 "nbformat_minor": 5
}
