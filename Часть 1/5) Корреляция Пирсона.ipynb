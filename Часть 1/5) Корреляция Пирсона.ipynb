{
 "cells": [
  {
   "cell_type": "markdown",
   "id": "c9c75572-5337-4445-83dd-aa89575cbe91",
   "metadata": {},
   "source": [
    "Для применения коэффициента корреляции Пирсона, нужно чтобы характер взаимосвязи между переменными был линейный и монотонный. Поэтому сначала строим скаттерплот.\n",
    "Вторым критерием является нормальность распределения обеих переменных."
   ]
  },
  {
   "cell_type": "code",
   "execution_count": 18,
   "id": "6895c5a9-7581-4ce6-8212-83cd16471219",
   "metadata": {},
   "outputs": [],
   "source": [
    "import matplotlib.pyplot as plt\n",
    "import numpy as np\n",
    "import scipy.stats as ss\n"
   ]
  },
  {
   "cell_type": "code",
   "execution_count": 19,
   "id": "d3e838eb-9688-4317-885e-18aaa3a19211",
   "metadata": {},
   "outputs": [
    {
     "data": {
      "text/plain": [
       "[<matplotlib.lines.Line2D at 0x1ca7cf07c10>]"
      ]
     },
     "execution_count": 19,
     "metadata": {},
     "output_type": "execute_result"
    },
    {
     "data": {
      "image/png": "[encoded data removed]",
      "text/plain": [
       "<Figure size 1080x720 with 1 Axes>"
      ]
     },
     "metadata": {
      "needs_background": "light"
     },
     "output_type": "display_data"
    }
   ],
   "source": [
    "n = 10\n",
    "data = np.random.normal(loc = 10, scale = 2, size = 1000)\n",
    "\n",
    "height = np.random.choice(data, n, replace=False)\n",
    "weight = np.random.choice(data, n, replace=False)\n",
    "\n",
    "fig, ax = plt.subplots(figsize = [15, 10])\n",
    "ax.set_xlabel(\"height\")\n",
    "ax.set_ylabel(\"weight\")\n",
    "ax.scatter(x = height, y = weight)\n",
    "\n",
    "x = np.array([i for i in range(int(min(height)), int(max(height) + 1))])\n",
    "y = np.array([np.mean(weight) for i in range(len(x))])\n",
    "ax.plot(x, y, color = \"r\")\n",
    "\n",
    "y = np.array([i for i in range(int(min(weight)), int(max(weight) + 1))])\n",
    "x = np.array([np.mean(height) for i in range(len(y))])\n",
    "\n",
    "ax.plot(x, y, color = \"orange\")\n"
   ]
  },
  {
   "cell_type": "markdown",
   "id": "ca032642-e73a-40ba-a270-1c2f26b2bbb4",
   "metadata": {},
   "source": [
    "Оранжевая вертикальная линия - это среднее значение по росту, красная горизонтальная линия - это среднее значение по весу. Теперь можно заметить, что вся диаграмма рассеивания разбилась на 4 квадрата. Например, если точка лежит в левом нижнем квадрате, то значение этого наблюдения меньше чем в среднем по росту и меньше чем в среднем по весу. Теперь для каждого наблюдения найдем произведение\n",
    "отклонения от среднего по росту и отклонения от среднего по весу. \n",
    "\n",
    "(height_i - height_mean) * (weight_i - weight_mean)\n",
    "\n",
    "Такое произведение будет больше нуля и по весу и по росту для всех наблюдений из 1 \n",
    "и 3 четвертей, и отрицательным для всех наблюдений из 2 и 4 четвертей. Поэтому если будет больше наблюдений для первого случая, значит мы получим положительную ковариацию и отрицательную в противном случае.\n",
    "\n",
    "Теперь найдем сумму произведений для каждого наблюдения и усредним ее.\n",
    "\n",
    "cov = sum((height_i - height_mean) * (weight_i - weight_mean)) / n,\n",
    "\n",
    "где n - число наблюдений.\n",
    "\n",
    "Этот показатель будет называться ковариацией.\n",
    "Для расчета коэффициента корреляции разделим коэффициент ковариации на произведение стандартных отклонений по весу и по росту.\n",
    "\n",
    "cor = cov / sko_height * sko_weight\n",
    "\n"
   ]
  },
  {
   "cell_type": "code",
   "execution_count": 23,
   "id": "a5b33667-5dcc-4d94-aad7-6b62a2a14228",
   "metadata": {},
   "outputs": [
    {
     "name": "stdout",
     "output_type": "stream",
     "text": [
      "Ковариация: -1.4114919996436375; Коэффициент корреляции: -0.386688004844833;\n"
     ]
    }
   ],
   "source": [
    "def cov(x, y):\n",
    "    return sum(\n",
    "        (x - np.mean(x)) * (y - np.mean(y))\n",
    "    ) / len(x)\n",
    "\n",
    "def corr(x, y):\n",
    "    return cov(x, y) / (np.std(x) * np.std(y))\n",
    "\n",
    "\n",
    "cova = sum((height - np.mean(height)) * (weight - np.mean(weight))) / (len(height) - 1)\n",
    "cor = cova / (np.std(height) * np.std(weight))\n",
    "print(f\"Ковариация: {cova}; Коэффициент корреляции: {cor};\")"
   ]
  },
  {
   "cell_type": "markdown",
   "id": "eba1f035-a610-4ba5-a83a-8888c1e2ac02",
   "metadata": {},
   "source": [
    "Также в статистике есть понятие коэффициента детеминации = cor ** 2. Он показывает\n",
    "часть изменчивости одной переменной, которая обусловлена взаимосвязью с другой переменной."
   ]
  },
  {
   "cell_type": "markdown",
   "id": "3daa3db9-fe32-4eff-b405-b7591fcbdd31",
   "metadata": {},
   "source": [
    "Теперь проверим статистическую гипотезу.\n",
    "Нулевая гипотеза говорит нам, что коэффициент корреляции между ростом и весом равен нулю.\n",
    "Н0: cor = 0\n",
    "H1: cor != 0\n",
    "\n",
    "В данном случае df = N - 2, тк мы работаем с 2-мя переменными и знаем их средние,\n",
    "соответственно можем найти каждое значение каждой переменной, хотя бы N - 1 значений."
   ]
  },
  {
   "cell_type": "code",
   "execution_count": 24,
   "id": "b2a69591-8339-4337-bbd2-3f00a34de705",
   "metadata": {},
   "outputs": [
    {
     "data": {
      "text/plain": [
       "[<matplotlib.lines.Line2D at 0x1ca7d857af0>]"
      ]
     },
     "execution_count": 24,
     "metadata": {},
     "output_type": "execute_result"
    },
    {
     "data": {
      "image/png": "[encoded data removed]",
      "text/plain": [
       "<Figure size 432x288 with 1 Axes>"
      ]
     },
     "metadata": {
      "needs_background": "light"
     },
     "output_type": "display_data"
    }
   ],
   "source": [
    "# Пример построения графика корреляции.\n",
    "plt.scatter(height, weight)\n",
    "plt.plot(np.unique(height), np.poly1d(np.polyfit(height, weight, 1))\n",
    "         (np.unique(height)), color='red')"
   ]
  },
  {
   "cell_type": "code",
   "execution_count": 25,
   "id": "0ede3e97-a41d-4be5-8d24-6dc06ce3b2e9",
   "metadata": {},
   "outputs": [
    {
     "data": {
      "text/plain": [
       "SpearmanrResult(correlation=-0.35757575757575755, pvalue=0.3103760917056799)"
      ]
     },
     "execution_count": 25,
     "metadata": {},
     "output_type": "execute_result"
    }
   ],
   "source": [
    "ss.spearmanr(height, weight)"
   ]
  },
  {
   "cell_type": "code",
   "execution_count": null,
   "id": "f7b2b2b9-5bf7-49b2-a2a8-19c4f3476769",
   "metadata": {},
   "outputs": [],
   "source": []
  }
 ],
 "metadata": {
  "kernelspec": {
   "display_name": "Python 3 (ipykernel)",
   "language": "python",
   "name": "python3"
  },
  "language_info": {
   "codemirror_mode": {
    "name": "ipython",
    "version": 3
   },
   "file_extension": ".py",
   "mimetype": "text/x-python",
   "name": "python",
   "nbconvert_exporter": "python",
   "pygments_lexer": "ipython3",
   "version": "3.9.7"
  }
 },
 "nbformat": 4,
 "nbformat_minor": 5
}
