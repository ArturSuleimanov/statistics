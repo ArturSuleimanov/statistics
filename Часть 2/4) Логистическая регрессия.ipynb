{
 "cells": [
  {
   "cell_type": "code",
   "execution_count": 47,
   "id": "39794502-ff23-46ca-ae16-b4f696d6838f",
   "metadata": {},
   "outputs": [],
   "source": [
    "import numpy as np\n",
    "import pandas as pd\n",
    "import seaborn as sns\n",
    "import scipy.stats as stats\n",
    "import math\n",
    "from statsmodels.graphics.mosaicplot import mosaic\n",
    "import matplotlib.pyplot as plt\n",
    "from sklearn.linear_model import LogisticRegression\n",
    "import statsmodels.api as sm"
   ]
  },
  {
   "cell_type": "markdown",
   "id": "e03915fd-64a8-4cbb-b581-9f1c38035ca0",
   "metadata": {},
   "source": [
    "Шансы - это отношение вероятности успеха к вероятности неудачи.\n",
    "\n",
    "odds = p / (1 - p), где p - вероятность положительного исхода. Если шансы > 1, то \n",
    "вероятность положительного исхода, больше чем вероятность отрицательного. Шансы могут принимать значения от 0 до +Inf.\n",
    "\n",
    "Если мы возьмем натуральный логарифм от шанса, то он будет лежать в промежутке (0; +Inf) при odds > 1 и в промежутке (-Inf; 0) при odds < 1. Получается, что каждый раз, когда вероятность положительного исхода выше, мы будем получать положительные значения логарифма и наоборот.\n",
    "\n",
    "Итого логистическая регрессия представляет из себя уравнение, в котором справа, находится линейная комбинация наших предикторов, а слева логарифм шансов положительного исхода зависимой переменной."
   ]
  },
  {
   "cell_type": "code",
   "execution_count": 39,
   "id": "7b40e61a-6d54-46cf-9133-b1e045de5ff7",
   "metadata": {},
   "outputs": [
    {
     "data": {
      "text/plain": [
       "[<matplotlib.lines.Line2D at 0x7febb1a39520>]"
      ]
     },
     "execution_count": 39,
     "metadata": {},
     "output_type": "execute_result"
    },
    {
     "data": {
      "image/png": "[encoded data removed]",
      "text/plain": [
       "<Figure size 432x288 with 1 Axes>"
      ]
     },
     "metadata": {
      "needs_background": "light"
     },
     "output_type": "display_data"
    }
   ],
   "source": [
    "# Покажем как, вероятность положительного исхода (Y) зависит от логарифма \n",
    "# шансов положительного исхода (X).\n",
    "\n",
    "posibilities = np.arange(.001, 0.9999, 0.001)\n",
    "logit = np.log(posibilities / (1 - posibilities))\n",
    "plt.plot(logit, posibilities)"
   ]
  },
  {
   "cell_type": "code",
   "execution_count": 155,
   "id": "0695630c-8abd-44ca-9de4-7e55bd4b915d",
   "metadata": {},
   "outputs": [],
   "source": [
    "data = pd.read_csv(\"https://stepic.org/media/attachments/course/524/train.csv\")"
   ]
  },
  {
   "cell_type": "markdown",
   "id": "b3b308b2-0613-42d3-a536-0b13235b2f3c",
   "metadata": {},
   "source": [
    "Сначала построим Intercept only model."
   ]
  },
  {
   "cell_type": "code",
   "execution_count": 156,
   "id": "e8ddea38-2756-4609-84dd-9d0c7ee8088f",
   "metadata": {},
   "outputs": [
    {
     "data": {
      "text/html": [
       "<table class=\"simpletable\">\n",
       "<caption>Generalized Linear Model Regression Results</caption>\n",
       "<tr>\n",
       "  <th>Dep. Variable:</th>       <td>Survived</td>     <th>  No. Observations:  </th>  <td>   891</td> \n",
       "</tr>\n",
       "<tr>\n",
       "  <th>Model:</th>                  <td>GLM</td>       <th>  Df Residuals:      </th>  <td>   890</td> \n",
       "</tr>\n",
       "<tr>\n",
       "  <th>Model Family:</th>        <td>Binomial</td>     <th>  Df Model:          </th>  <td>     0</td> \n",
       "</tr>\n",
       "<tr>\n",
       "  <th>Link Function:</th>         <td>Logit</td>      <th>  Scale:             </th> <td>  1.0000</td>\n",
       "</tr>\n",
       "<tr>\n",
       "  <th>Method:</th>                <td>IRLS</td>       <th>  Log-Likelihood:    </th> <td> -593.33</td>\n",
       "</tr>\n",
       "<tr>\n",
       "  <th>Date:</th>            <td>Thu, 23 Feb 2023</td> <th>  Deviance:          </th> <td>  1186.7</td>\n",
       "</tr>\n",
       "<tr>\n",
       "  <th>Time:</th>                <td>17:20:10</td>     <th>  Pearson chi2:      </th>  <td>  891.</td> \n",
       "</tr>\n",
       "<tr>\n",
       "  <th>No. Iterations:</th>          <td>4</td>        <th>  Pseudo R-squ. (CS):</th>  <td> 0.000</td> \n",
       "</tr>\n",
       "<tr>\n",
       "  <th>Covariance Type:</th>     <td>nonrobust</td>    <th>                     </th>     <td> </td>   \n",
       "</tr>\n",
       "</table>\n",
       "<table class=\"simpletable\">\n",
       "<tr>\n",
       "      <td></td>         <th>coef</th>     <th>std err</th>      <th>z</th>      <th>P>|z|</th>  <th>[0.025</th>    <th>0.975]</th>  \n",
       "</tr>\n",
       "<tr>\n",
       "  <th>Intercept</th> <td>   -0.4733</td> <td>    0.069</td> <td>   -6.870</td> <td> 0.000</td> <td>   -0.608</td> <td>   -0.338</td>\n",
       "</tr>\n",
       "</table>"
      ],
      "text/plain": [
       "<class 'statsmodels.iolib.summary.Summary'>\n",
       "\"\"\"\n",
       "                 Generalized Linear Model Regression Results                  \n",
       "==============================================================================\n",
       "Dep. Variable:               Survived   No. Observations:                  891\n",
       "Model:                            GLM   Df Residuals:                      890\n",
       "Model Family:                Binomial   Df Model:                            0\n",
       "Link Function:                  Logit   Scale:                          1.0000\n",
       "Method:                          IRLS   Log-Likelihood:                -593.33\n",
       "Date:                Thu, 23 Feb 2023   Deviance:                       1186.7\n",
       "Time:                        17:20:10   Pearson chi2:                     891.\n",
       "No. Iterations:                     4   Pseudo R-squ. (CS):              0.000\n",
       "Covariance Type:            nonrobust                                         \n",
       "==============================================================================\n",
       "                 coef    std err          z      P>|z|      [0.025      0.975]\n",
       "------------------------------------------------------------------------------\n",
       "Intercept     -0.4733      0.069     -6.870      0.000      -0.608      -0.338\n",
       "==============================================================================\n",
       "\"\"\""
      ]
     },
     "execution_count": 156,
     "metadata": {},
     "output_type": "execute_result"
    }
   ],
   "source": [
    "model = sm.formula.glm(\"Survived ~ 1\",\n",
    "                       family=sm.families.Binomial(), data=data).fit()\n",
    "# В нашем случае мы увидим только один Intercept\n",
    "model.summary()\n"
   ]
  },
  {
   "cell_type": "markdown",
   "id": "879612b4-0a7a-47bc-a5fc-a39b26cf4a58",
   "metadata": {},
   "source": [
    "В данном случае это означает, что у нас есть зависимая переменная Survived (Y).\n",
    "Мы хотим построить модель Y = Intercept.\n",
    "\n",
    "Мы получим, что log(p / (p-1)) = Intercept, логарифм шансов на выживание будет описан одним числом"
   ]
  },
  {
   "cell_type": "code",
   "execution_count": 157,
   "id": "62cebb35-ae1b-45cb-b5a7-eac64fbcf942",
   "metadata": {},
   "outputs": [
    {
     "name": "stdout",
     "output_type": "stream",
     "text": [
      "-0.4732877044469254\n",
      "0.38383838383838387\n"
     ]
    }
   ],
   "source": [
    "# Посчитаем сколько человек погибло, а сколько выжило\n",
    "survived_table = data.groupby(\"Survived\").count().loc[:, :\"PassengerId\"]\n",
    "# Посчитаем шансы на выживание\n",
    "odds = survived_table.PassengerId[1] / survived_table.PassengerId[0]\n",
    "intercept = math.log(odds) # это и есть intercept\n",
    "print(intercept)\n",
    "\"\"\"\n",
    "Мы как бы говорим модели, чтобы она подобрала нам число, которое максимально точно\n",
    "опишет нового пассажира.\n",
    "\"\"\"\n",
    "# Зная Intercept можно посчитать вероятность выживания\n",
    "p = math.exp(intercept) / (1 + math.exp(intercept))\n",
    "print(p)"
   ]
  },
  {
   "cell_type": "markdown",
   "id": "732227f8-0e6b-4691-96e4-e2517a55e423",
   "metadata": {},
   "source": [
    "Также мы увидим, что Intercept значимо отличается от 0. Значит шансы значимо меньше единицы. Значит вероятность выжить значимо меньше 0,5.\n",
    "\n",
    "Н0: odds = 1\n",
    "H1: odds != 1\n",
    "\n",
    "Если бы мы много раз повторяли эксперимент и каждый раз вычисляли логарифм шансов, то при условии справедливости нулевой гипотезы, наш Intercept распределился бы нормально вокруг среднего равного 0, со стандартной ошибкой среднего. И поделив Intercept на стандартную ошибку, мы ответим на вопрос: \"На сколько стандартных отклонений отклонился наш коэффициент\". Отсюда посчитаем p_value."
   ]
  },
  {
   "cell_type": "code",
   "execution_count": 158,
   "id": "289bbfc3-72a8-4d61-a80f-41523698a81d",
   "metadata": {},
   "outputs": [
    {
     "name": "stdout",
     "output_type": "stream",
     "text": [
      "14.999999584065643\n"
     ]
    }
   ],
   "source": [
    "\"\"\"\n",
    "Мы как бы говорим модели, чтобы она подобрала нам число, которое максимально точно\n",
    "опишет нового пассажира.\n",
    "\"\"\"\n",
    "# Зная Intercept можно посчитать вероятность выживания\n",
    "p = math.exp( -0.8472979) / (1 + math.exp( -0.8472979))\n",
    "print(p * 50)"
   ]
  },
  {
   "cell_type": "code",
   "execution_count": null,
   "id": "413280f0-887f-4569-87ab-d56e86bacaf7",
   "metadata": {},
   "outputs": [],
   "source": []
  },
  {
   "cell_type": "markdown",
   "id": "81186a3c-31bd-4366-b844-b9904e4fd7e2",
   "metadata": {},
   "source": [
    "Теперь построим модель с одним предиктором."
   ]
  },
  {
   "cell_type": "code",
   "execution_count": 159,
   "id": "43dc158a-8e70-4e25-80b3-74b391dd9c14",
   "metadata": {},
   "outputs": [
    {
     "data": {
      "text/html": [
       "<table class=\"simpletable\">\n",
       "<caption>Generalized Linear Model Regression Results</caption>\n",
       "<tr>\n",
       "  <th>Dep. Variable:</th>       <td>Survived</td>     <th>  No. Observations:  </th>  <td>   891</td> \n",
       "</tr>\n",
       "<tr>\n",
       "  <th>Model:</th>                  <td>GLM</td>       <th>  Df Residuals:      </th>  <td>   889</td> \n",
       "</tr>\n",
       "<tr>\n",
       "  <th>Model Family:</th>        <td>Binomial</td>     <th>  Df Model:          </th>  <td>     1</td> \n",
       "</tr>\n",
       "<tr>\n",
       "  <th>Link Function:</th>         <td>Logit</td>      <th>  Scale:             </th> <td>  1.0000</td>\n",
       "</tr>\n",
       "<tr>\n",
       "  <th>Method:</th>                <td>IRLS</td>       <th>  Log-Likelihood:    </th> <td> -458.90</td>\n",
       "</tr>\n",
       "<tr>\n",
       "  <th>Date:</th>            <td>Thu, 23 Feb 2023</td> <th>  Deviance:          </th> <td>  917.80</td>\n",
       "</tr>\n",
       "<tr>\n",
       "  <th>Time:</th>                <td>17:21:05</td>     <th>  Pearson chi2:      </th>  <td>  891.</td> \n",
       "</tr>\n",
       "<tr>\n",
       "  <th>No. Iterations:</th>          <td>4</td>        <th>  Pseudo R-squ. (CS):</th>  <td>0.2605</td> \n",
       "</tr>\n",
       "<tr>\n",
       "  <th>Covariance Type:</th>     <td>nonrobust</td>    <th>                     </th>     <td> </td>   \n",
       "</tr>\n",
       "</table>\n",
       "<table class=\"simpletable\">\n",
       "<tr>\n",
       "       <td></td>          <th>coef</th>     <th>std err</th>      <th>z</th>      <th>P>|z|</th>  <th>[0.025</th>    <th>0.975]</th>  \n",
       "</tr>\n",
       "<tr>\n",
       "  <th>Intercept</th>   <td>    1.0566</td> <td>    0.129</td> <td>    8.191</td> <td> 0.000</td> <td>    0.804</td> <td>    1.309</td>\n",
       "</tr>\n",
       "<tr>\n",
       "  <th>Sex[T.male]</th> <td>   -2.5137</td> <td>    0.167</td> <td>  -15.036</td> <td> 0.000</td> <td>   -2.841</td> <td>   -2.186</td>\n",
       "</tr>\n",
       "</table>"
      ],
      "text/plain": [
       "<class 'statsmodels.iolib.summary.Summary'>\n",
       "\"\"\"\n",
       "                 Generalized Linear Model Regression Results                  \n",
       "==============================================================================\n",
       "Dep. Variable:               Survived   No. Observations:                  891\n",
       "Model:                            GLM   Df Residuals:                      889\n",
       "Model Family:                Binomial   Df Model:                            1\n",
       "Link Function:                  Logit   Scale:                          1.0000\n",
       "Method:                          IRLS   Log-Likelihood:                -458.90\n",
       "Date:                Thu, 23 Feb 2023   Deviance:                       917.80\n",
       "Time:                        17:21:05   Pearson chi2:                     891.\n",
       "No. Iterations:                     4   Pseudo R-squ. (CS):             0.2605\n",
       "Covariance Type:            nonrobust                                         \n",
       "===============================================================================\n",
       "                  coef    std err          z      P>|z|      [0.025      0.975]\n",
       "-------------------------------------------------------------------------------\n",
       "Intercept       1.0566      0.129      8.191      0.000       0.804       1.309\n",
       "Sex[T.male]    -2.5137      0.167    -15.036      0.000      -2.841      -2.186\n",
       "===============================================================================\n",
       "\"\"\""
      ]
     },
     "execution_count": 159,
     "metadata": {},
     "output_type": "execute_result"
    }
   ],
   "source": [
    "model = sm.formula.glm(\"Survived ~ Sex\",\n",
    "                       family=sm.families.Binomial(), data=data).fit()\n",
    "# В нашем случае мы увидим только один Intercept\n",
    "model.summary()"
   ]
  },
  {
   "cell_type": "markdown",
   "id": "cedd5e72-e35c-451e-87e1-7eee0bc8f11a",
   "metadata": {},
   "source": [
    "Теперь проинтепретируем результаты. Для начала построим табличку сопряженности между полом, и тем выжил человек или нет."
   ]
  },
  {
   "cell_type": "code",
   "execution_count": 179,
   "id": "2ea93247-803f-43ae-b9ad-74b6ef82bc2e",
   "metadata": {},
   "outputs": [],
   "source": [
    "table_survived = data.groupby([\"Survived\", \"Sex\"]).count().loc[:, :\"PassengerId\"]\n",
    "\n",
    "# Шансы выжить для мужчин\n",
    "male_odds = table_survived.PassengerId[1][1] / table_survived.PassengerId[0][1]\n",
    "\n",
    "# Шансы выжить для женщин\n",
    "female_odds = table_survived.PassengerId[1][0] / table_survived.PassengerId[0][0]\n",
    "\n",
    "# Теперь можно расчитать Intecept\n",
    "intercept = math.log(female_odds)\n",
    "\n",
    "# Далее найдем отношение шансов выжить для мужчин к шансам выжить для женщин\n",
    "odds_ratio = male_odds / female_odds\n",
    "\n",
    "# Коэффициент при независимой переменной\n",
    "coef_sex_male = math.log(odds_ratio)"
   ]
  },
  {
   "attachments": {
    "cee140d4-198f-46cb-8eb8-7f9d3708a3fd.png": {
     "image/png": "[encoded data removed]"
    }
   },
   "cell_type": "markdown",
   "id": "07f38df9-e8d2-4566-a46b-62a48358c5b0",
   "metadata": {},
   "source": [
    "Мы расчитали только коэффициент для ситуации, когда человек является мужчиной, тк, зная, что он мужчина, мы точно можем утверждать, что он не женщина. Если мы создадим 2 столбика: один - является ли человек женщиной, второй - является ли человек мужчиной, то между ними будет линейная взаимосвязь, поэтому один столбик выбрасывается и уходит в Intercept.\n",
    "\n",
    "В нашем случае, мы оцениваем логарифм шансов на выживание.\n",
    "\n",
    "log(p/(p-1)) = 1.0566 - 2.5137 * Sex_Male\n",
    "\n",
    "Соответственно если человек - женщина, то мы просто получим логарифм шансов выжить для женщины, однако если это мужчина, мы его как бы оштрафуем и получим\n",
    "логарифм шансов положительного исхода для мужчин.\n",
    "\n",
    "Это легко доказать, исходя и свойства логарифмов:\n",
    "![image.png](attachment:cee140d4-198f-46cb-8eb8-7f9d3708a3fd.png)"
   ]
  }
 ],
 "metadata": {
  "kernelspec": {
   "display_name": "Python 3 (ipykernel)",
   "language": "python",
   "name": "python3"
  },
  "language_info": {
   "codemirror_mode": {
    "name": "ipython",
    "version": 3
   },
   "file_extension": ".py",
   "mimetype": "text/x-python",
   "name": "python",
   "nbconvert_exporter": "python",
   "pygments_lexer": "ipython3",
   "version": "3.9.7"
  }
 },
 "nbformat": 4,
 "nbformat_minor": 5
}
